{
 "cells": [
  {
   "cell_type": "code",
   "execution_count": 4,
   "id": "58be08f5",
   "metadata": {},
   "outputs": [],
   "source": [
    "def suma(a:int, b:int) -> int:\n",
    "    \"\"\"\n",
    "   Calcula la suma de dos números enteros.\n",
    "   \n",
    "   Args:\n",
    "       a (int): El primer número a sumar.\n",
    "       b (int): El segundo número a sumar.\n",
    "   \n",
    "   Returns:\n",
    "       int: La suma de a y b.\n",
    "   \"\"\"\n",
    "    return a + b"
   ]
  },
  {
   "cell_type": "code",
   "execution_count": 5,
   "id": "e5f46d76",
   "metadata": {},
   "outputs": [
    {
     "data": {
      "text/plain": [
       "'\\nCalcula la suma de dos números enteros.\\n\\nArgs:\\n    a (int): El primer número a sumar.\\n    b (int): El segundo número a sumar.\\n\\nReturns:\\n    int: La suma de a y b.\\n'"
      ]
     },
     "execution_count": 5,
     "metadata": {},
     "output_type": "execute_result"
    }
   ],
   "source": [
    "suma.__doc__"
   ]
  },
  {
   "cell_type": "code",
   "execution_count": 9,
   "id": "cacfb33f",
   "metadata": {},
   "outputs": [],
   "source": [
    "import requests\n",
    "\n",
    "def tokenize_with_ollama(text, model_name=\"llama2:latest\"):\n",
    "    \"\"\"Tokenizar usando la API de Ollama\"\"\"\n",
    "    url = \"http://localhost:11434/api/generate\"\n",
    "    \n",
    "    payload = {\n",
    "        \"model\": model_name,\n",
    "        \"prompt\": text,\n",
    "        \"stream\": False,\n",
    "        \"options\": {\n",
    "            \"num_predict\": 0,  # No generar texto, solo tokenizar\n",
    "        }\n",
    "    }\n",
    "    \n",
    "    response = requests.post(url, json=payload)\n",
    "    if response.status_code == 200:\n",
    "        result = response.json()\n",
    "        if result[\"prompt_eval_count\"]:\n",
    "            return result[\"prompt_eval_count\"]\n",
    "        else:\n",
    "            raise Exception(f\"No ha calculado los tokens\")\n",
    "        # Ollama incluye información sobre tokens en la respuesta\n",
    "    else:\n",
    "        raise Exception(f\"Error: {response.status_code}\")\n",
    "\n",
    "texto = \"Hola hola esto es un texto de prueba a ver si funciona el tokenizador\"\n",
    "tokens = tokenize_with_ollama(texto)"
   ]
  },
  {
   "cell_type": "code",
   "execution_count": 10,
   "id": "5ed56f8a",
   "metadata": {},
   "outputs": [
    {
     "data": {
      "text/plain": [
       "41"
      ]
     },
     "execution_count": 10,
     "metadata": {},
     "output_type": "execute_result"
    }
   ],
   "source": [
    "tokens"
   ]
  }
 ],
 "metadata": {
  "kernelspec": {
   "display_name": ".venv",
   "language": "python",
   "name": "python3"
  },
  "language_info": {
   "codemirror_mode": {
    "name": "ipython",
    "version": 3
   },
   "file_extension": ".py",
   "mimetype": "text/x-python",
   "name": "python",
   "nbconvert_exporter": "python",
   "pygments_lexer": "ipython3",
   "version": "3.13.2"
  }
 },
 "nbformat": 4,
 "nbformat_minor": 5
}
