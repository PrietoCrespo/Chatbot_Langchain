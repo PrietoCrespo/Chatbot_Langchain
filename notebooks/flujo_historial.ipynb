{
 "cells": [
  {
   "cell_type": "code",
   "execution_count": 1,
   "id": "b280dd9d",
   "metadata": {},
   "outputs": [
    {
     "name": "stderr",
     "output_type": "stream",
     "text": [
      "<frozen importlib._bootstrap>:488: DeprecationWarning: builtin type SwigPyPacked has no __module__ attribute\n",
      "<frozen importlib._bootstrap>:488: DeprecationWarning: builtin type SwigPyObject has no __module__ attribute\n",
      "<frozen importlib._bootstrap>:488: DeprecationWarning: builtin type swigvarlink has no __module__ attribute\n"
     ]
    }
   ],
   "source": [
    "from functions import initialize_weaviate_and_get_retriever_with_images"
   ]
  },
  {
   "cell_type": "code",
   "execution_count": 5,
   "id": "28bf4f07",
   "metadata": {},
   "outputs": [
    {
     "name": "stdout",
     "output_type": "stream",
     "text": [
      "✅ Conectado a Weaviate local\n",
      "🗑️ Colección 'DocumentosPDFOllama' eliminada\n",
      "📦 Colección 'DocumentosPDFOllama' creada con soporte para imágenes\n",
      "📄 Procesando diego_velazquez.pdf...\n",
      "📸 Procesando imagen 1 de la página 1...\n",
      "✅ Descripción obtenida:  The image is a classic oil painting, depicting a young boy dressed in Renaissance attire atop a hor...\n",
      "📸 Procesando imagen 2 de la página 1...\n",
      "✅ Descripción obtenida:  The image depicts a portrait of a man with curly hair, a well-groomed beard and mustache, and a pro...\n",
      "📸 Procesando imagen 1 de la página 2...\n",
      "✅ Descripción obtenida:  This image is a captivating oil painting that showcases an intimate scene set in the Renaissance pe...\n",
      "📸 Procesando imagen 1 de la página 3...\n",
      "✅ Descripción obtenida:  La imagen es una reproducción de un cuadro o pintura que retrata un ambiente interior con una grupo...\n",
      "📸 Procesando imagen 2 de la página 3...\n",
      "✅ Descripción obtenida:  The image is a digital artwork that depicts an outdoor historical scene. It features a group of men...\n",
      "📄 Procesando ejemplo_rag.pdf...\n",
      "📄 Procesando mapas.pdf...\n",
      "📸 Procesando imagen 1 de la página 1...\n",
      "✅ Descripción obtenida:  Esta es una imagen compuesta de dos partes, cada una mostrando un mapa diferente. La parte superior...\n",
      "📸 Procesando imagen 2 de la página 1...\n",
      "✅ Descripción obtenida:  Esta es una imagen a color que muestra un mapa regional de México. En la parte superior del mapa se...\n",
      "📸 Procesando imagen 1 de la página 2...\n",
      "✅ Descripción obtenida:  The image is a topographical map of a region, which appears to be part of Spain. The map includes v...\n",
      "📝 Texto dividido en 8 chunks\n",
      "🖼️ Encontradas 8 imágenes\n",
      "🤖 Generando embeddings e insertando contenido...\n",
      "✅ 16 elementos insertados (texto e imágenes) con embeddings de Ollama.\n",
      "✨ Retriever de LangChain creado para la colección 'DocumentosPDFOllama' con soporte para imágenes\n"
     ]
    }
   ],
   "source": [
    "retriever = initialize_weaviate_and_get_retriever_with_images(data_folder='./data',collection_name='DocumentosPDFOllama')\n"
   ]
  },
  {
   "cell_type": "code",
   "execution_count": null,
   "id": "b5e30aa4",
   "metadata": {},
   "outputs": [],
   "source": [
    "from langchain_ollama.llms import OllamaLLM\n",
    "from langchain_core.prompts import ChatPromptTemplate, MessagesPlaceholder\n",
    "from langchain.chains.history_aware_retriever import create_history_aware_retriever\n",
    "from langchain.chains.combine_documents import create_stuff_documents_chain\n",
    "from langchain.chains import create_retrieval_chain\n",
    "\n",
    "llm = OllamaLLM(model=\"qwen3:4b\")\n",
    "\n",
    "contextualize_q_system_prompt = \"\"\"Given a chat history and the latest user question \\\n",
    "which might reference context in the chat history, formulate a standalone question \\\n",
    "which can be understood without the chat history. Do NOT answer the question, \\\n",
    "just reformulate it if needed and otherwise return it as is.\"\"\"\n",
    "\n",
    "contextualize_q_prompt = ChatPromptTemplate.from_messages(\n",
    "    [\n",
    "        (\"system\", contextualize_q_system_prompt),\n",
    "        MessagesPlaceholder(\"chat_history\"),\n",
    "        (\"human\", \"{input}\"),\n",
    "    ]\n",
    ")\n",
    "\n",
    "answer_prompt = ChatPromptTemplate.from_messages(\n",
    "    [\n",
    "        (\"system\", \"Responde a la pregunta basándote únicamente en el siguiente contexto:\\n\\n{context}\"),\n",
    "        MessagesPlaceholder(\"chat_history\"),\n",
    "        (\"human\", \"{input}\"),\n",
    "    ]\n",
    ")\n",
    "\n",
    "history_aware_retriever = create_history_aware_retriever(\n",
    "    llm, retriever, contextualize_q_prompt\n",
    ")\n",
    "\n",
    "stuff_documents_chain = create_stuff_documents_chain(llm, answer_prompt)\n",
    "\n",
    "rag_chain = create_retrieval_chain(history_aware_retriever, stuff_documents_chain)\n",
    "\n",
    "# Ejemplo de uso\n",
    "from langchain_core.messages import HumanMessage, AIMessage\n",
    "\n",
    "chat_history = []\n",
    "while True:\n",
    "    question = input(\"Escribe tu pregunta (o 'salir' para terminar): \")\n",
    "    if question.lower() == 'salir':\n",
    "        break\n",
    "    \n",
    "    response = rag_chain.invoke({\n",
    "        \"input\": question,\n",
    "        \"chat_history\": chat_history\n",
    "    })\n",
    "    \n",
    "    respuesta = response['answer'].split('</think>')[1]\n",
    "    print(f\"Respuesta: {respuesta}\\n\")\n",
    "    \n",
    "    # Actualiza el historial de chat para la siguiente pregunta\n",
    "    chat_history.extend([HumanMessage(content=question), AIMessage(content=respuesta)])"
   ]
  }
 ],
 "metadata": {
  "kernelspec": {
   "display_name": ".venv",
   "language": "python",
   "name": "python3"
  },
  "language_info": {
   "codemirror_mode": {
    "name": "ipython",
    "version": 3
   },
   "file_extension": ".py",
   "mimetype": "text/x-python",
   "name": "python",
   "nbconvert_exporter": "python",
   "pygments_lexer": "ipython3",
   "version": "3.13.2"
  }
 },
 "nbformat": 4,
 "nbformat_minor": 5
}
